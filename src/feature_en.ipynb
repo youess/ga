{
 "cells": [
  {
   "cell_type": "markdown",
   "metadata": {},
   "source": [
    "# Feature engineering"
   ]
  },
  {
   "cell_type": "code",
   "execution_count": 1,
   "metadata": {},
   "outputs": [
    {
     "name": "stderr",
     "output_type": "stream",
     "text": [
      "/usr/local/miniconda3/envs/py36/lib/python3.6/site-packages/lightgbm/__init__.py:45: FutureWarning: Starting from version 2.2.1, the library file in distribution wheels for macOS will be built by the Apple Clang compiler.\n",
      "This means that in case of installing LightGBM from PyPI via the ``pip install lightgbm`` command, you won't need to install the gcc compiler anymore.\n",
      "Instead of that, you'll need to install the OpenMP library, which is required for running LightGBM on the system with the Apple Clang compiler.\n",
      "You can install the OpenMP library by the following command: ``brew install libomp``.\n",
      "  \"You can install the OpenMP library by the following command: ``brew install libomp``.\", FutureWarning)\n"
     ]
    }
   ],
   "source": [
    "import os \n",
    "import gc \n",
    "import numpy as np \n",
    "import pandas as pd \n",
    "import json \n",
    "from pandas.io.json import json_normalize\n",
    "from sklearn.model_selection import train_test_split\n",
    "from sklearn.metrics import mean_squared_error\n",
    "from sklearn.linear_model import Ridge\n",
    "from lightgbm import LGBMRegressor\n",
    "from xgboost import XGBRegressor\n",
    "import warnings\n",
    "import matplotlib.pyplot as plt\n",
    "\n",
    "%matplotlib inline\n",
    "\n",
    "warnings.simplefilter('ignore')"
   ]
  },
  {
   "cell_type": "code",
   "execution_count": 69,
   "metadata": {},
   "outputs": [],
   "source": [
    "\n",
    "def load_data(path, nrows=None):\n",
    "\n",
    "    json_cols = ['device', 'geoNetwork', 'totals', 'trafficSource']\n",
    "\n",
    "    df = pd.read_csv(path, dtype={\n",
    "        'fullVisitorId': 'str', 'visitId': 'str'}, \n",
    "        nrows=nrows,\n",
    "        converters={column: json.loads for column in json_cols},\n",
    "        engine=\"c\")\n",
    "\n",
    "    for col in json_cols:\n",
    "        col_as_df = json_normalize(df[col])\n",
    "        col_as_df.columns = [f'{col}.{subcolumn}' \n",
    "            for subcolumn in col_as_df.columns]\n",
    "        df = df.drop(col, axis=1).merge(col_as_df, right_index=True, left_index=True)\n",
    "    \n",
    "    print(f\"Loaded {os.path.basename(path)}, data shape: {df.shape}\")\n",
    "    return df \n",
    "\n",
    "\n",
    "def tidy_data(df):\n",
    "\n",
    "    # Convert target into log scale\n",
    "    y_name = 'totals.transactionRevenue'\n",
    "    df[y_name] = df[y_name].astype(float).fillna(0)\n",
    "    df[y_name+'_log'] = np.log1p(df[y_name])\n",
    "\n",
    "    # Remove columns that has const value. May be indicate blank value\n",
    "    na_vals = ['unknown.unknown', '(not set)', 'not available in demo dataset', \n",
    "        '(not provided)', '(none)', '<NA>']\n",
    "    for c in df.columns:\n",
    "        is_na = df[c].isin(na_vals)\n",
    "        df.loc[is_na, c] = np.nan\n",
    "    const_cols = [c for c in df.columns if df[c].notnull().sum() == 0]\n",
    "    print(f\"Only NA value column list: {const_cols}\")\n",
    "    df.drop(const_cols, axis=1, inplace=True)\n",
    "\n",
    "    # Drop duplicate meaning of columns\n",
    "    # Todo: date column could be add to test\n",
    "    sc = ['date', 'sessionId', 'socialEngagementType']\n",
    "    print(f\"No use columns: {sc}\")\n",
    "    df.drop(sc, axis=1, inplace=True)\n",
    "\n",
    "    # Convert to should-be-like dtype\n",
    "    df['visitStartTime'] = pd.to_datetime(\n",
    "        df['visitStartTime'].astype(int).astype(str), unit='s')\n",
    "\n",
    "    df['visitId'] = df['visitId'].astype(\"int64\")\n",
    "    \n",
    "    # device section\n",
    "    df['device.isMobile'] = df['device.isMobile'].astype(\"int8\")\n",
    "\n",
    "    # totals section\n",
    "    sc = [c for c in df.columns if c.startswith('totals.')]\n",
    "    for c in sc:\n",
    "        df[c] = df[c].astype(float)\n",
    "\n",
    "    # trafficSource section\n",
    "    # sc = [c for c in df.columns if c.startswith(\"trafficSource\")]\n",
    "\n",
    "    return df\n"
   ]
  },
  {
   "cell_type": "code",
   "execution_count": 70,
   "metadata": {},
   "outputs": [
    {
     "name": "stdout",
     "output_type": "stream",
     "text": [
      "Loaded train.csv, data shape: (10000, 54)\n",
      "Loaded test.csv, data shape: (10000, 53)\n",
      "train user count: 9251, test user count: 9142,\n",
      "Common user cnt: 9 and common user with revenue count: 0\n",
      "current data shape: (10000, 54)\n"
     ]
    },
    {
     "data": {
      "text/plain": [
       "105"
      ]
     },
     "execution_count": 70,
     "metadata": {},
     "output_type": "execute_result"
    }
   ],
   "source": [
    "    DBG = True\n",
    "    np.random.seed(123)\n",
    "    nrows = 10000 if DBG else None\n",
    "\n",
    "    train = load_data('../input/train.csv', nrows)\n",
    "    sc = ['fullVisitorId', 'visitStartTime']\n",
    "    train = train.sort_values(sc).reset_index(drop=True)\n",
    "    test = load_data('../input/test.csv', nrows)\n",
    "    test = test.sort_values(sc).reset_index(drop=True)\n",
    "\n",
    "    y_name = 'totals.transactionRevenue'\n",
    "    test[y_name] = 0\n",
    "    tr_n = train.shape[0]\n",
    "    train = train[test.columns.tolist()]\n",
    "    # train = train.append(test, ignore_index=True)\n",
    "    # How much visitor intersect between train and test dataset?\n",
    "    train_user = set(train[\"fullVisitorId\"].tolist())\n",
    "    test_user = set(test[\"fullVisitorId\"].tolist())\n",
    "    cm_user = train_user & test_user\n",
    "    idx = (train[\"fullVisitorId\"].isin(cm_user)) & (pd.to_numeric(train[y_name]) > 0)\n",
    "    print(f\"train user count: {len(train_user)}, test user count: {len(test_user)},\\n\\\n",
    "Common user cnt: {len(cm_user)} and common user with revenue count: {idx.sum()}\")\n",
    "    #df = train.append(test, ignore_index=True)\n",
    "    df = train\n",
    "    print(f\"current data shape: {df.shape}\")\n",
    "    # del train, test\n",
    "    gc.collect()"
   ]
  },
  {
   "cell_type": "code",
   "execution_count": 71,
   "metadata": {},
   "outputs": [
    {
     "name": "stdout",
     "output_type": "stream",
     "text": [
      "Only NA value column list: ['device.browserSize', 'device.browserVersion', 'device.flashVersion', 'device.language', 'device.mobileDeviceBranding', 'device.mobileDeviceInfo', 'device.mobileDeviceMarketingName', 'device.mobileDeviceModel', 'device.mobileInputSelector', 'device.operatingSystemVersion', 'device.screenColors', 'device.screenResolution', 'geoNetwork.cityId', 'geoNetwork.latitude', 'geoNetwork.longitude', 'geoNetwork.networkLocation', 'trafficSource.adwordsClickInfo.criteriaParameters']\n",
      "No use columns: ['date', 'sessionId', 'socialEngagementType']\n"
     ]
    },
    {
     "data": {
      "text/html": [
       "<div>\n",
       "<style scoped>\n",
       "    .dataframe tbody tr th:only-of-type {\n",
       "        vertical-align: middle;\n",
       "    }\n",
       "\n",
       "    .dataframe tbody tr th {\n",
       "        vertical-align: top;\n",
       "    }\n",
       "\n",
       "    .dataframe thead th {\n",
       "        text-align: right;\n",
       "    }\n",
       "</style>\n",
       "<table border=\"1\" class=\"dataframe\">\n",
       "  <thead>\n",
       "    <tr style=\"text-align: right;\">\n",
       "      <th></th>\n",
       "      <th>visitId</th>\n",
       "      <th>visitNumber</th>\n",
       "      <th>device.isMobile</th>\n",
       "      <th>totals.bounces</th>\n",
       "      <th>totals.hits</th>\n",
       "      <th>totals.newVisits</th>\n",
       "      <th>totals.pageviews</th>\n",
       "      <th>totals.visits</th>\n",
       "      <th>totals.transactionRevenue</th>\n",
       "      <th>totals.transactionRevenue_log</th>\n",
       "    </tr>\n",
       "  </thead>\n",
       "  <tbody>\n",
       "    <tr>\n",
       "      <th>count</th>\n",
       "      <td>1.000000e+04</td>\n",
       "      <td>10000.000000</td>\n",
       "      <td>10000.000000</td>\n",
       "      <td>5318.0</td>\n",
       "      <td>10000.000000</td>\n",
       "      <td>7701.0</td>\n",
       "      <td>10000.00000</td>\n",
       "      <td>10000.0</td>\n",
       "      <td>1.000000e+04</td>\n",
       "      <td>10000.000000</td>\n",
       "    </tr>\n",
       "    <tr>\n",
       "      <th>mean</th>\n",
       "      <td>1.485622e+09</td>\n",
       "      <td>2.167300</td>\n",
       "      <td>0.288600</td>\n",
       "      <td>1.0</td>\n",
       "      <td>4.224900</td>\n",
       "      <td>1.0</td>\n",
       "      <td>3.55770</td>\n",
       "      <td>1.0</td>\n",
       "      <td>1.065414e+06</td>\n",
       "      <td>0.161706</td>\n",
       "    </tr>\n",
       "    <tr>\n",
       "      <th>std</th>\n",
       "      <td>8.864598e+06</td>\n",
       "      <td>7.862283</td>\n",
       "      <td>0.453134</td>\n",
       "      <td>0.0</td>\n",
       "      <td>8.505819</td>\n",
       "      <td>0.0</td>\n",
       "      <td>6.21121</td>\n",
       "      <td>0.0</td>\n",
       "      <td>1.991012e+07</td>\n",
       "      <td>1.691880</td>\n",
       "    </tr>\n",
       "    <tr>\n",
       "      <th>min</th>\n",
       "      <td>1.472799e+09</td>\n",
       "      <td>1.000000</td>\n",
       "      <td>0.000000</td>\n",
       "      <td>1.0</td>\n",
       "      <td>1.000000</td>\n",
       "      <td>1.0</td>\n",
       "      <td>1.00000</td>\n",
       "      <td>1.0</td>\n",
       "      <td>0.000000e+00</td>\n",
       "      <td>0.000000</td>\n",
       "    </tr>\n",
       "    <tr>\n",
       "      <th>25%</th>\n",
       "      <td>1.472880e+09</td>\n",
       "      <td>1.000000</td>\n",
       "      <td>0.000000</td>\n",
       "      <td>1.0</td>\n",
       "      <td>1.000000</td>\n",
       "      <td>1.0</td>\n",
       "      <td>1.00000</td>\n",
       "      <td>1.0</td>\n",
       "      <td>0.000000e+00</td>\n",
       "      <td>0.000000</td>\n",
       "    </tr>\n",
       "    <tr>\n",
       "      <th>50%</th>\n",
       "      <td>1.486122e+09</td>\n",
       "      <td>1.000000</td>\n",
       "      <td>0.000000</td>\n",
       "      <td>1.0</td>\n",
       "      <td>1.000000</td>\n",
       "      <td>1.0</td>\n",
       "      <td>1.00000</td>\n",
       "      <td>1.0</td>\n",
       "      <td>0.000000e+00</td>\n",
       "      <td>0.000000</td>\n",
       "    </tr>\n",
       "    <tr>\n",
       "      <th>75%</th>\n",
       "      <td>1.489368e+09</td>\n",
       "      <td>1.000000</td>\n",
       "      <td>1.000000</td>\n",
       "      <td>1.0</td>\n",
       "      <td>3.000000</td>\n",
       "      <td>1.0</td>\n",
       "      <td>3.00000</td>\n",
       "      <td>1.0</td>\n",
       "      <td>0.000000e+00</td>\n",
       "      <td>0.000000</td>\n",
       "    </tr>\n",
       "    <tr>\n",
       "      <th>max</th>\n",
       "      <td>1.498288e+09</td>\n",
       "      <td>317.000000</td>\n",
       "      <td>1.000000</td>\n",
       "      <td>1.0</td>\n",
       "      <td>189.000000</td>\n",
       "      <td>1.0</td>\n",
       "      <td>138.00000</td>\n",
       "      <td>1.0</td>\n",
       "      <td>1.077000e+09</td>\n",
       "      <td>20.797445</td>\n",
       "    </tr>\n",
       "  </tbody>\n",
       "</table>\n",
       "</div>"
      ],
      "text/plain": [
       "            visitId   visitNumber  device.isMobile  totals.bounces  \\\n",
       "count  1.000000e+04  10000.000000     10000.000000          5318.0   \n",
       "mean   1.485622e+09      2.167300         0.288600             1.0   \n",
       "std    8.864598e+06      7.862283         0.453134             0.0   \n",
       "min    1.472799e+09      1.000000         0.000000             1.0   \n",
       "25%    1.472880e+09      1.000000         0.000000             1.0   \n",
       "50%    1.486122e+09      1.000000         0.000000             1.0   \n",
       "75%    1.489368e+09      1.000000         1.000000             1.0   \n",
       "max    1.498288e+09    317.000000         1.000000             1.0   \n",
       "\n",
       "        totals.hits  totals.newVisits  totals.pageviews  totals.visits  \\\n",
       "count  10000.000000            7701.0       10000.00000        10000.0   \n",
       "mean       4.224900               1.0           3.55770            1.0   \n",
       "std        8.505819               0.0           6.21121            0.0   \n",
       "min        1.000000               1.0           1.00000            1.0   \n",
       "25%        1.000000               1.0           1.00000            1.0   \n",
       "50%        1.000000               1.0           1.00000            1.0   \n",
       "75%        3.000000               1.0           3.00000            1.0   \n",
       "max      189.000000               1.0         138.00000            1.0   \n",
       "\n",
       "       totals.transactionRevenue  totals.transactionRevenue_log  \n",
       "count               1.000000e+04                   10000.000000  \n",
       "mean                1.065414e+06                       0.161706  \n",
       "std                 1.991012e+07                       1.691880  \n",
       "min                 0.000000e+00                       0.000000  \n",
       "25%                 0.000000e+00                       0.000000  \n",
       "50%                 0.000000e+00                       0.000000  \n",
       "75%                 0.000000e+00                       0.000000  \n",
       "max                 1.077000e+09                      20.797445  "
      ]
     },
     "execution_count": 71,
     "metadata": {},
     "output_type": "execute_result"
    }
   ],
   "source": [
    "df = tidy_data(df)\n",
    "df.describe()"
   ]
  },
  {
   "cell_type": "code",
   "execution_count": 5,
   "metadata": {},
   "outputs": [
    {
     "name": "stdout",
     "output_type": "stream",
     "text": [
      "<class 'pandas.core.frame.DataFrame'>\n",
      "RangeIndex: 10000 entries, 0 to 9999\n",
      "Data columns (total 35 columns):\n",
      "channelGrouping                                 10000 non-null object\n",
      "fullVisitorId                                   10000 non-null object\n",
      "visitId                                         10000 non-null int64\n",
      "visitNumber                                     10000 non-null float64\n",
      "visitStartTime                                  10000 non-null datetime64[ns]\n",
      "device.browser                                  10000 non-null object\n",
      "device.deviceCategory                           10000 non-null object\n",
      "device.isMobile                                 10000 non-null int8\n",
      "device.operatingSystem                          9952 non-null object\n",
      "geoNetwork.city                                 3748 non-null object\n",
      "geoNetwork.continent                            9987 non-null object\n",
      "geoNetwork.country                              9987 non-null object\n",
      "geoNetwork.metro                                2194 non-null object\n",
      "geoNetwork.networkDomain                        5787 non-null object\n",
      "geoNetwork.region                               3745 non-null object\n",
      "geoNetwork.subContinent                         9987 non-null object\n",
      "totals.bounces                                  5318 non-null float64\n",
      "totals.hits                                     10000 non-null float64\n",
      "totals.newVisits                                7701 non-null float64\n",
      "totals.pageviews                                10000 non-null float64\n",
      "totals.visits                                   10000 non-null float64\n",
      "trafficSource.adContent                         151 non-null object\n",
      "trafficSource.adwordsClickInfo.adNetworkType    250 non-null object\n",
      "trafficSource.adwordsClickInfo.gclId            253 non-null object\n",
      "trafficSource.adwordsClickInfo.isVideoAd        250 non-null object\n",
      "trafficSource.adwordsClickInfo.page             250 non-null object\n",
      "trafficSource.adwordsClickInfo.slot             250 non-null object\n",
      "trafficSource.campaign                          461 non-null object\n",
      "trafficSource.isTrueDirect                      3179 non-null object\n",
      "trafficSource.keyword                           431 non-null object\n",
      "trafficSource.medium                            8355 non-null object\n",
      "trafficSource.referralPath                      3041 non-null object\n",
      "trafficSource.source                            10000 non-null object\n",
      "totals.transactionRevenue                       91 non-null float64\n",
      "totals.transactionRevenue_log                   91 non-null float64\n",
      "dtypes: datetime64[ns](1), float64(8), int64(1), int8(1), object(24)\n",
      "memory usage: 2.6+ MB\n"
     ]
    }
   ],
   "source": [
    "df.info()"
   ]
  },
  {
   "cell_type": "code",
   "execution_count": 72,
   "metadata": {},
   "outputs": [
    {
     "data": {
      "text/html": [
       "<div>\n",
       "<style scoped>\n",
       "    .dataframe tbody tr th:only-of-type {\n",
       "        vertical-align: middle;\n",
       "    }\n",
       "\n",
       "    .dataframe tbody tr th {\n",
       "        vertical-align: top;\n",
       "    }\n",
       "\n",
       "    .dataframe thead th {\n",
       "        text-align: right;\n",
       "    }\n",
       "</style>\n",
       "<table border=\"1\" class=\"dataframe\">\n",
       "  <thead>\n",
       "    <tr style=\"text-align: right;\">\n",
       "      <th></th>\n",
       "      <th>channelGrouping</th>\n",
       "      <th>fullVisitorId</th>\n",
       "      <th>visitId</th>\n",
       "      <th>visitNumber</th>\n",
       "      <th>visitStartTime</th>\n",
       "      <th>device.browser</th>\n",
       "      <th>device.deviceCategory</th>\n",
       "      <th>device.isMobile</th>\n",
       "      <th>device.operatingSystem</th>\n",
       "      <th>geoNetwork.city</th>\n",
       "      <th>...</th>\n",
       "      <th>trafficSource.adwordsClickInfo.page</th>\n",
       "      <th>trafficSource.adwordsClickInfo.slot</th>\n",
       "      <th>trafficSource.campaign</th>\n",
       "      <th>trafficSource.isTrueDirect</th>\n",
       "      <th>trafficSource.keyword</th>\n",
       "      <th>trafficSource.medium</th>\n",
       "      <th>trafficSource.referralPath</th>\n",
       "      <th>trafficSource.source</th>\n",
       "      <th>totals.transactionRevenue</th>\n",
       "      <th>totals.transactionRevenue_log</th>\n",
       "    </tr>\n",
       "  </thead>\n",
       "  <tbody>\n",
       "    <tr>\n",
       "      <th>0</th>\n",
       "      <td>Social</td>\n",
       "      <td>0000245437374675368</td>\n",
       "      <td>1472862842</td>\n",
       "      <td>1.0</td>\n",
       "      <td>2016-09-03 00:34:02</td>\n",
       "      <td>Internet Explorer</td>\n",
       "      <td>desktop</td>\n",
       "      <td>0</td>\n",
       "      <td>Windows</td>\n",
       "      <td>NaN</td>\n",
       "      <td>...</td>\n",
       "      <td>NaN</td>\n",
       "      <td>NaN</td>\n",
       "      <td>NaN</td>\n",
       "      <td>NaN</td>\n",
       "      <td>NaN</td>\n",
       "      <td>referral</td>\n",
       "      <td>/yt/about/</td>\n",
       "      <td>youtube.com</td>\n",
       "      <td>0.0</td>\n",
       "      <td>0.0</td>\n",
       "    </tr>\n",
       "    <tr>\n",
       "      <th>1</th>\n",
       "      <td>Organic Search</td>\n",
       "      <td>0000750929315523353</td>\n",
       "      <td>1486157741</td>\n",
       "      <td>1.0</td>\n",
       "      <td>2017-02-03 21:35:41</td>\n",
       "      <td>Safari</td>\n",
       "      <td>desktop</td>\n",
       "      <td>0</td>\n",
       "      <td>Macintosh</td>\n",
       "      <td>NaN</td>\n",
       "      <td>...</td>\n",
       "      <td>NaN</td>\n",
       "      <td>NaN</td>\n",
       "      <td>NaN</td>\n",
       "      <td>NaN</td>\n",
       "      <td>NaN</td>\n",
       "      <td>organic</td>\n",
       "      <td>NaN</td>\n",
       "      <td>google</td>\n",
       "      <td>0.0</td>\n",
       "      <td>0.0</td>\n",
       "    </tr>\n",
       "    <tr>\n",
       "      <th>2</th>\n",
       "      <td>Social</td>\n",
       "      <td>0004803397127474847</td>\n",
       "      <td>1472824907</td>\n",
       "      <td>1.0</td>\n",
       "      <td>2016-09-02 14:01:47</td>\n",
       "      <td>Chrome</td>\n",
       "      <td>desktop</td>\n",
       "      <td>0</td>\n",
       "      <td>Windows</td>\n",
       "      <td>NaN</td>\n",
       "      <td>...</td>\n",
       "      <td>NaN</td>\n",
       "      <td>NaN</td>\n",
       "      <td>NaN</td>\n",
       "      <td>NaN</td>\n",
       "      <td>NaN</td>\n",
       "      <td>referral</td>\n",
       "      <td>/yt/about/</td>\n",
       "      <td>youtube.com</td>\n",
       "      <td>0.0</td>\n",
       "      <td>0.0</td>\n",
       "    </tr>\n",
       "    <tr>\n",
       "      <th>3</th>\n",
       "      <td>Direct</td>\n",
       "      <td>0005096736076850458</td>\n",
       "      <td>1472841336</td>\n",
       "      <td>1.0</td>\n",
       "      <td>2016-09-02 18:35:36</td>\n",
       "      <td>Chrome</td>\n",
       "      <td>desktop</td>\n",
       "      <td>0</td>\n",
       "      <td>Windows</td>\n",
       "      <td>Buenos Aires</td>\n",
       "      <td>...</td>\n",
       "      <td>NaN</td>\n",
       "      <td>NaN</td>\n",
       "      <td>NaN</td>\n",
       "      <td>True</td>\n",
       "      <td>NaN</td>\n",
       "      <td>NaN</td>\n",
       "      <td>NaN</td>\n",
       "      <td>(direct)</td>\n",
       "      <td>0.0</td>\n",
       "      <td>0.0</td>\n",
       "    </tr>\n",
       "    <tr>\n",
       "      <th>4</th>\n",
       "      <td>Direct</td>\n",
       "      <td>0005096736076850458</td>\n",
       "      <td>1472843606</td>\n",
       "      <td>2.0</td>\n",
       "      <td>2016-09-02 19:13:26</td>\n",
       "      <td>Chrome</td>\n",
       "      <td>desktop</td>\n",
       "      <td>0</td>\n",
       "      <td>Windows</td>\n",
       "      <td>Buenos Aires</td>\n",
       "      <td>...</td>\n",
       "      <td>NaN</td>\n",
       "      <td>NaN</td>\n",
       "      <td>NaN</td>\n",
       "      <td>True</td>\n",
       "      <td>NaN</td>\n",
       "      <td>NaN</td>\n",
       "      <td>NaN</td>\n",
       "      <td>(direct)</td>\n",
       "      <td>0.0</td>\n",
       "      <td>0.0</td>\n",
       "    </tr>\n",
       "  </tbody>\n",
       "</table>\n",
       "<p>5 rows × 35 columns</p>\n",
       "</div>"
      ],
      "text/plain": [
       "  channelGrouping        fullVisitorId     visitId  visitNumber  \\\n",
       "0          Social  0000245437374675368  1472862842          1.0   \n",
       "1  Organic Search  0000750929315523353  1486157741          1.0   \n",
       "2          Social  0004803397127474847  1472824907          1.0   \n",
       "3          Direct  0005096736076850458  1472841336          1.0   \n",
       "4          Direct  0005096736076850458  1472843606          2.0   \n",
       "\n",
       "       visitStartTime     device.browser device.deviceCategory  \\\n",
       "0 2016-09-03 00:34:02  Internet Explorer               desktop   \n",
       "1 2017-02-03 21:35:41             Safari               desktop   \n",
       "2 2016-09-02 14:01:47             Chrome               desktop   \n",
       "3 2016-09-02 18:35:36             Chrome               desktop   \n",
       "4 2016-09-02 19:13:26             Chrome               desktop   \n",
       "\n",
       "   device.isMobile device.operatingSystem geoNetwork.city  \\\n",
       "0                0                Windows             NaN   \n",
       "1                0              Macintosh             NaN   \n",
       "2                0                Windows             NaN   \n",
       "3                0                Windows    Buenos Aires   \n",
       "4                0                Windows    Buenos Aires   \n",
       "\n",
       "               ...               trafficSource.adwordsClickInfo.page  \\\n",
       "0              ...                                               NaN   \n",
       "1              ...                                               NaN   \n",
       "2              ...                                               NaN   \n",
       "3              ...                                               NaN   \n",
       "4              ...                                               NaN   \n",
       "\n",
       "  trafficSource.adwordsClickInfo.slot trafficSource.campaign  \\\n",
       "0                                 NaN                    NaN   \n",
       "1                                 NaN                    NaN   \n",
       "2                                 NaN                    NaN   \n",
       "3                                 NaN                    NaN   \n",
       "4                                 NaN                    NaN   \n",
       "\n",
       "  trafficSource.isTrueDirect trafficSource.keyword trafficSource.medium  \\\n",
       "0                        NaN                   NaN             referral   \n",
       "1                        NaN                   NaN              organic   \n",
       "2                        NaN                   NaN             referral   \n",
       "3                       True                   NaN                  NaN   \n",
       "4                       True                   NaN                  NaN   \n",
       "\n",
       "   trafficSource.referralPath  trafficSource.source  \\\n",
       "0                  /yt/about/           youtube.com   \n",
       "1                         NaN                google   \n",
       "2                  /yt/about/           youtube.com   \n",
       "3                         NaN              (direct)   \n",
       "4                         NaN              (direct)   \n",
       "\n",
       "   totals.transactionRevenue  totals.transactionRevenue_log  \n",
       "0                        0.0                            0.0  \n",
       "1                        0.0                            0.0  \n",
       "2                        0.0                            0.0  \n",
       "3                        0.0                            0.0  \n",
       "4                        0.0                            0.0  \n",
       "\n",
       "[5 rows x 35 columns]"
      ]
     },
     "execution_count": 72,
     "metadata": {},
     "output_type": "execute_result"
    }
   ],
   "source": [
    "df.head()"
   ]
  },
  {
   "cell_type": "code",
   "execution_count": 8,
   "metadata": {},
   "outputs": [
    {
     "name": "stdout",
     "output_type": "stream",
     "text": [
      "3.3.0\n"
     ]
    },
    {
     "data": {
      "text/html": [
       "<script>requirejs.config({paths: { 'plotly': ['https://cdn.plot.ly/plotly-latest.min']},});if(!window.Plotly) {{require(['plotly'],function(plotly) {window.Plotly=plotly;});}}</script>"
      ],
      "text/vnd.plotly.v1+html": [
       "<script>requirejs.config({paths: { 'plotly': ['https://cdn.plot.ly/plotly-latest.min']},});if(!window.Plotly) {{require(['plotly'],function(plotly) {window.Plotly=plotly;});}}</script>"
      ]
     },
     "metadata": {},
     "output_type": "display_data"
    }
   ],
   "source": [
    "import plotly\n",
    "import plotly.offline as py\n",
    "import plotly.graph_objs as go\n",
    "\n",
    "print(plotly.__version__)\n",
    "\n",
    "py.init_notebook_mode(connected=True)"
   ]
  },
  {
   "cell_type": "code",
   "execution_count": 43,
   "metadata": {},
   "outputs": [],
   "source": [
    "def plot_bar(df, col, fig_size=(8, 10), fig_type='barh'):\n",
    "    plt.figure(figsize=fig_size)\n",
    "    fd1 = df[col].value_counts()\n",
    "    plt.subplot(2, 1, 1)\n",
    "    fd1.plot(kind=fig_type, title='Count')\n",
    "    plt.subplot(2, 1, 2)\n",
    "    fd2 = df.groupby(col)[y_name].sum().apply(np.log1p)\n",
    "    fd2 = fd2[fd1.index.tolist()]\n",
    "    fd2.plot(kind=fig_type, title='Revenue(Log1p)')"
   ]
  },
  {
   "cell_type": "code",
   "execution_count": 44,
   "metadata": {},
   "outputs": [
    {
     "data": {
      "image/png": "[encoded data removed]",
      "text/plain": [
       "<Figure size 576x720 with 2 Axes>"
      ]
     },
     "metadata": {
      "needs_background": "light"
     },
     "output_type": "display_data"
    }
   ],
   "source": [
    "#df['channelGrouping'].fillna('NAN').value_counts().plot(kind='bar')\n",
    "df['channelGrouping'] = df['channelGrouping'].fillna('NAN')\n",
    "#fd1 = df['channelGrouping'].value_counts()\n",
    "#trace0 = go.Bar(x = fig_data.index.tolist(), y = fig_data.tolist())\n",
    "#data = [trace0]\n",
    "#py.iplot(data)\n",
    "#plt.subplot(1, 2, 1)\n",
    "#fd1.plot(kind='bar')\n",
    "#plt.subplot(1, 2, 2)\n",
    "#fd2 = df.groupby('channelGrouping')[y_name].sum().apply(np.log1p)\n",
    "#fd2 = fd2[fd1.index.tolist()]\n",
    "#fd2.plot(kind='bar')\n",
    "plot_bar(df, 'channelGrouping')"
   ]
  },
  {
   "cell_type": "code",
   "execution_count": 39,
   "metadata": {},
   "outputs": [
    {
     "data": {
      "text/plain": [
       "0.0    1.472799e+09\n",
       "0.1    1.472858e+09\n",
       "0.2    1.485465e+09\n",
       "0.3    1.486181e+09\n",
       "0.4    1.498206e+09\n",
       "0.5    1.503212e+09\n",
       "0.6    1.508192e+09\n",
       "0.7    1.510342e+09\n",
       "0.8    1.512065e+09\n",
       "0.9    1.523781e+09\n",
       "1.0    1.523862e+09\n",
       "Name: visitId, dtype: float64"
      ]
     },
     "execution_count": 39,
     "metadata": {},
     "output_type": "execute_result"
    }
   ],
   "source": [
    "import math\n",
    "df['visitId'].quantile(np.arange(0, 1.01, 0.1))"
   ]
  },
  {
   "cell_type": "code",
   "execution_count": 45,
   "metadata": {},
   "outputs": [
    {
     "data": {
      "text/plain": [
       "<matplotlib.collections.PathCollection at 0x129e91518>"
      ]
     },
     "execution_count": 45,
     "metadata": {},
     "output_type": "execute_result"
    },
    {
     "data": {
      "image/png": "[encoded data removed]",
      "text/plain": [
       "<Figure size 432x288 with 1 Axes>"
      ]
     },
     "metadata": {
      "needs_background": "light"
     },
     "output_type": "display_data"
    }
   ],
   "source": [
    "plt.scatter(df['visitNumber'].fillna(0), df[y_name + '_log'])"
   ]
  },
  {
   "cell_type": "code",
   "execution_count": 76,
   "metadata": {},
   "outputs": [],
   "source": [
    "# map visit start time into local time\n",
    "import googlemaps\n",
    "from datetime import datetime\n",
    "import json\n",
    "\n",
    "#with open('.secret.json') as f:\n",
    "#    # Setting up API key\n",
    "#    pk = json.load(f)\n",
    "    \n",
    "# print(pk)\n",
    "#gmaps = googlemaps.Client(key=pk['key'])\n",
    "\n",
    "# \n",
    "# dir(gmaps)"
   ]
  },
  {
   "cell_type": "code",
   "execution_count": null,
   "metadata": {},
   "outputs": [],
   "source": [
    "#res = gmaps.geocode('1600 Amphitheatre Parkway, Mountain View, CA')\n",
    "#print(res)\n",
    "\n",
    "#timez = gmaps.timezone(location=res[0]['geometry']['location'])\n",
    "#print(timez)"
   ]
  },
  {
   "cell_type": "code",
   "execution_count": null,
   "metadata": {},
   "outputs": [],
   "source": []
  },
  {
   "cell_type": "code",
   "execution_count": 71,
   "metadata": {},
   "outputs": [
    {
     "name": "stdout",
     "output_type": "stream",
     "text": [
      "Empty addr count: 0\n"
     ]
    }
   ],
   "source": [
    "#addr = df[['geoNetwork.city', 'geoNetwork.region', 'geoNetwork.country']].fillna('').apply(lambda x: ' '.join(x), axis=1)\n",
    "#print(f\"Empty addr count: {(addr == '').sum()}\")"
   ]
  },
  {
   "cell_type": "code",
   "execution_count": 54,
   "metadata": {},
   "outputs": [
    {
     "data": {
      "text/plain": [
       "0                          United States\n",
       "1                          United States\n",
       "2                              Australia\n",
       "3    Buenos Aires Buenos Aires Argentina\n",
       "4    Buenos Aires Buenos Aires Argentina\n",
       "dtype: object"
      ]
     },
     "execution_count": 54,
     "metadata": {},
     "output_type": "execute_result"
    }
   ],
   "source": [
    "#addr.head()"
   ]
  },
  {
   "cell_type": "code",
   "execution_count": null,
   "metadata": {},
   "outputs": [],
   "source": [
    "#d = {}\n",
    "#for c in addr.unique().tolist():\n",
    "#    geo_res = gmaps.geocode(c)\n",
    "#    timez = gmaps.timezone(location=geo_res[0]['geometry']['location'])\n",
    "#    d[c] = timez"
   ]
  },
  {
   "cell_type": "code",
   "execution_count": null,
   "metadata": {},
   "outputs": [],
   "source": [
    "# map back the hour\n"
   ]
  },
  {
   "cell_type": "code",
   "execution_count": 25,
   "metadata": {},
   "outputs": [
    {
     "data": {
      "text/html": [
       "<div>\n",
       "<style scoped>\n",
       "    .dataframe tbody tr th:only-of-type {\n",
       "        vertical-align: middle;\n",
       "    }\n",
       "\n",
       "    .dataframe tbody tr th {\n",
       "        vertical-align: top;\n",
       "    }\n",
       "\n",
       "    .dataframe thead th {\n",
       "        text-align: right;\n",
       "    }\n",
       "</style>\n",
       "<table border=\"1\" class=\"dataframe\">\n",
       "  <thead>\n",
       "    <tr style=\"text-align: right;\">\n",
       "      <th></th>\n",
       "      <th>visitStartTime</th>\n",
       "      <th>visitHour</th>\n",
       "      <th>visitDay</th>\n",
       "      <th>visitDOW</th>\n",
       "      <th>visitTimestamp</th>\n",
       "    </tr>\n",
       "  </thead>\n",
       "  <tbody>\n",
       "    <tr>\n",
       "      <th>0</th>\n",
       "      <td>2016-09-03 00:34:02</td>\n",
       "      <td>0</td>\n",
       "      <td>3</td>\n",
       "      <td>5</td>\n",
       "      <td>1472862842</td>\n",
       "    </tr>\n",
       "    <tr>\n",
       "      <th>1</th>\n",
       "      <td>2017-02-03 21:35:41</td>\n",
       "      <td>21</td>\n",
       "      <td>3</td>\n",
       "      <td>4</td>\n",
       "      <td>1486157741</td>\n",
       "    </tr>\n",
       "    <tr>\n",
       "      <th>2</th>\n",
       "      <td>2016-09-02 14:01:47</td>\n",
       "      <td>14</td>\n",
       "      <td>2</td>\n",
       "      <td>4</td>\n",
       "      <td>1472824907</td>\n",
       "    </tr>\n",
       "    <tr>\n",
       "      <th>3</th>\n",
       "      <td>2016-09-02 18:35:36</td>\n",
       "      <td>18</td>\n",
       "      <td>2</td>\n",
       "      <td>4</td>\n",
       "      <td>1472841336</td>\n",
       "    </tr>\n",
       "    <tr>\n",
       "      <th>4</th>\n",
       "      <td>2016-09-02 19:13:26</td>\n",
       "      <td>19</td>\n",
       "      <td>2</td>\n",
       "      <td>4</td>\n",
       "      <td>1472843606</td>\n",
       "    </tr>\n",
       "  </tbody>\n",
       "</table>\n",
       "</div>"
      ],
      "text/plain": [
       "       visitStartTime  visitHour  visitDay  visitDOW  visitTimestamp\n",
       "0 2016-09-03 00:34:02          0         3         5      1472862842\n",
       "1 2017-02-03 21:35:41         21         3         4      1486157741\n",
       "2 2016-09-02 14:01:47         14         2         4      1472824907\n",
       "3 2016-09-02 18:35:36         18         2         4      1472841336\n",
       "4 2016-09-02 19:13:26         19         2         4      1472843606"
      ]
     },
     "execution_count": 25,
     "metadata": {},
     "output_type": "execute_result"
    }
   ],
   "source": [
    "df['visitHour'] = df['visitStartTime'].dt.hour\n",
    "df['visitDay'] = df['visitStartTime'].dt.day\n",
    "df['visitDOW'] = df['visitStartTime'].dt.dayofweek\n",
    "df['visitTimestamp'] = df['visitStartTime'].apply(lambda x: x.timestamp()).astype(int)\n",
    "df[['visitStartTime', 'visitHour', 'visitDay', 'visitDOW', 'visitTimestamp']].head()"
   ]
  },
  {
   "cell_type": "code",
   "execution_count": 38,
   "metadata": {},
   "outputs": [
    {
     "data": {
      "image/png": "[encoded data removed]",
      "text/plain": [
       "<Figure size 576x720 with 2 Axes>"
      ]
     },
     "metadata": {
      "needs_background": "light"
     },
     "output_type": "display_data"
    }
   ],
   "source": [
    "df['device.browser'] = df['device.browser'].fillna(\"NAN\")\n",
    "plot_bar(df, 'device.browser')"
   ]
  },
  {
   "cell_type": "code",
   "execution_count": 40,
   "metadata": {},
   "outputs": [
    {
     "data": {
      "image/png": "[encoded data removed]",
      "text/plain": [
       "<Figure size 576x432 with 2 Axes>"
      ]
     },
     "metadata": {
      "needs_background": "light"
     },
     "output_type": "display_data"
    }
   ],
   "source": [
    "sc = 'device.deviceCategory'\n",
    "df[sc] = df[sc].fillna(\"NAN\")\n",
    "plot_bar(df, sc, fig_size=(8, 6))"
   ]
  },
  {
   "cell_type": "code",
   "execution_count": 41,
   "metadata": {},
   "outputs": [
    {
     "data": {
      "image/png": "[encoded data removed]",
      "text/plain": [
       "<Figure size 576x432 with 2 Axes>"
      ]
     },
     "metadata": {
      "needs_background": "light"
     },
     "output_type": "display_data"
    }
   ],
   "source": [
    "sc = 'device.isMobile'\n",
    "df[sc] = df[sc].fillna(\"NAN\")\n",
    "plot_bar(df, sc, fig_size=(8, 6))"
   ]
  },
  {
   "cell_type": "code",
   "execution_count": 46,
   "metadata": {},
   "outputs": [
    {
     "data": {
      "image/png": "[encoded data removed]",
      "text/plain": [
       "<Figure size 576x720 with 2 Axes>"
      ]
     },
     "metadata": {
      "needs_background": "light"
     },
     "output_type": "display_data"
    }
   ],
   "source": [
    "sc = 'device.operatingSystem'\n",
    "df[sc] = df[sc].fillna(\"NAN\")\n",
    "plot_bar(df, sc)"
   ]
  },
  {
   "cell_type": "code",
   "execution_count": 62,
   "metadata": {},
   "outputs": [
    {
     "name": "stdout",
     "output_type": "stream",
     "text": [
      "Column: geoNetwork.city category count: 108, Quantile count: [(0.0, 4.0), (0.25, 8.75), (0.5, 18.0), (0.75, 39.0), (1.0, 6252.0)]\n",
      "NAN              6252\n",
      "Mountain View     493\n",
      "New York          274\n",
      "Name: geoNetwork.city, dtype: int64\n",
      "========================================\n",
      "Column: geoNetwork.continent category count: 6, Quantile count: [(0.0, 13.0), (0.25, 161.0), (0.5, 1110.5), (0.75, 2292.5), (1.0, 5235.0)]\n",
      "Americas    5235\n",
      "Europe      2375\n",
      "Asia        2045\n",
      "Name: geoNetwork.continent, dtype: int64\n",
      "========================================\n",
      "Column: geoNetwork.country category count: 138, Quantile count: [(0.0, 1.0), (0.25, 2.0), (0.5, 9.0), (0.75, 46.75), (1.0, 4274.0)]\n",
      "United States     4274\n",
      "India              531\n",
      "United Kingdom     405\n",
      "Name: geoNetwork.country, dtype: int64\n",
      "========================================\n",
      "Column: geoNetwork.metro category count: 21, Quantile count: [(0.0, 4.0), (0.25, 23.0), (0.5, 36.0), (0.75, 105.0), (1.0, 7806.0)]\n",
      "NAN                                  7806\n",
      "San Francisco-Oakland-San Jose CA    1103\n",
      "New York NY                           274\n",
      "Name: geoNetwork.metro, dtype: int64\n",
      "========================================\n",
      "Column: geoNetwork.networkDomain category count: 1507, Quantile count: [(0.0, 1.0), (0.25, 1.0), (0.5, 1.0), (0.75, 2.0), (1.0, 4213.0)]\n",
      "NAN            4213\n",
      "comcast.net     321\n",
      "rr.com          178\n",
      "Name: geoNetwork.networkDomain, dtype: int64\n",
      "========================================\n",
      "Column: geoNetwork.region category count: 80, Quantile count: [(0.0, 4.0), (0.25, 8.0), (0.5, 20.0), (0.75, 44.5), (1.0, 6255.0)]\n",
      "NAN           6255\n",
      "California    1256\n",
      "New York       274\n",
      "Name: geoNetwork.region, dtype: int64\n",
      "========================================\n",
      "Column: geoNetwork.subContinent category count: 21, Quantile count: [(0.0, 1.0), (0.25, 28.0), (0.5, 183.0), (0.75, 540.0), (1.0, 4582.0)]\n",
      "Northern America    4582\n",
      "Western Europe       729\n",
      "Northern Europe      631\n",
      "Name: geoNetwork.subContinent, dtype: int64\n",
      "========================================\n"
     ]
    }
   ],
   "source": [
    "sc = [c for c in df.columns.tolist() if c.startswith('geoNetwork')]\n",
    "# print(sc)\n",
    "for c in sc:\n",
    "    vc = df[c].fillna('NAN').value_counts()\n",
    "    qc = vc.quantile([0, 0.25, 0.5, 0.75, 1])\n",
    "    qc = list(zip(qc.index.tolist(), qc.values.tolist()))\n",
    "    print(f'Column: {c} category count: {len(vc)}, Quantile count: {qc}')\n",
    "    print(vc.head(3))\n",
    "    print(\"====\" * 10)"
   ]
  },
  {
   "cell_type": "code",
   "execution_count": 73,
   "metadata": {},
   "outputs": [
    {
     "data": {
      "text/plain": [
       "<matplotlib.collections.PathCollection at 0x12d86d358>"
      ]
     },
     "execution_count": 73,
     "metadata": {},
     "output_type": "execute_result"
    },
    {
     "data": {
      "image/png": "[encoded data removed]",
      "text/plain": [
       "<Figure size 432x288 with 1 Axes>"
      ]
     },
     "metadata": {
      "needs_background": "light"
     },
     "output_type": "display_data"
    }
   ],
   "source": [
    "sc = \"totals.bounces\"\n",
    "# df[sc].fillna(0).quantile(np.arange(0, 1.01, 0.25))\n",
    "plt.scatter(df[sc].fillna(0), df[y_name+\"_log\"])\n",
    "# df[[sc, y_name+\"_log\"]].head()"
   ]
  },
  {
   "cell_type": "code",
   "execution_count": 74,
   "metadata": {},
   "outputs": [
    {
     "data": {
      "text/plain": [
       "<matplotlib.collections.PathCollection at 0x12d825470>"
      ]
     },
     "execution_count": 74,
     "metadata": {},
     "output_type": "execute_result"
    },
    {
     "data": {
      "image/png": "[encoded data removed]",
      "text/plain": [
       "<Figure size 432x288 with 1 Axes>"
      ]
     },
     "metadata": {
      "needs_background": "light"
     },
     "output_type": "display_data"
    }
   ],
   "source": [
    "sc = \"totals.hits\"\n",
    "plt.scatter(df[sc].fillna(0), df[y_name+\"_log\"])"
   ]
  },
  {
   "cell_type": "code",
   "execution_count": 75,
   "metadata": {},
   "outputs": [
    {
     "data": {
      "text/plain": [
       "<matplotlib.collections.PathCollection at 0x12d7d9438>"
      ]
     },
     "execution_count": 75,
     "metadata": {},
     "output_type": "execute_result"
    },
    {
     "data": {
      "image/png": "[encoded data removed]",
      "text/plain": [
       "<Figure size 432x288 with 1 Axes>"
      ]
     },
     "metadata": {
      "needs_background": "light"
     },
     "output_type": "display_data"
    }
   ],
   "source": [
    "sc = \"totals.newVisits\"\n",
    "plt.scatter(df[sc].fillna(0), df[y_name+\"_log\"])"
   ]
  },
  {
   "cell_type": "code",
   "execution_count": 76,
   "metadata": {},
   "outputs": [
    {
     "data": {
      "text/plain": [
       "<matplotlib.collections.PathCollection at 0x12d7a3278>"
      ]
     },
     "execution_count": 76,
     "metadata": {},
     "output_type": "execute_result"
    },
    {
     "data": {
      "image/png": "[encoded data removed]",
      "text/plain": [
       "<Figure size 432x288 with 1 Axes>"
      ]
     },
     "metadata": {
      "needs_background": "light"
     },
     "output_type": "display_data"
    }
   ],
   "source": [
    "sc = \"totals.pageviews\"\n",
    "plt.scatter(df[sc].fillna(0), df[y_name+\"_log\"])"
   ]
  },
  {
   "cell_type": "code",
   "execution_count": 81,
   "metadata": {},
   "outputs": [
    {
     "name": "stdout",
     "output_type": "stream",
     "text": [
      "0.1645\n"
     ]
    },
    {
     "data": {
      "text/html": [
       "<div>\n",
       "<style scoped>\n",
       "    .dataframe tbody tr th:only-of-type {\n",
       "        vertical-align: middle;\n",
       "    }\n",
       "\n",
       "    .dataframe tbody tr th {\n",
       "        vertical-align: top;\n",
       "    }\n",
       "\n",
       "    .dataframe thead th {\n",
       "        text-align: right;\n",
       "    }\n",
       "</style>\n",
       "<table border=\"1\" class=\"dataframe\">\n",
       "  <thead>\n",
       "    <tr style=\"text-align: right;\">\n",
       "      <th></th>\n",
       "      <th>totals.pageviews</th>\n",
       "      <th>totals.hits</th>\n",
       "    </tr>\n",
       "  </thead>\n",
       "  <tbody>\n",
       "    <tr>\n",
       "      <th>totals.pageviews</th>\n",
       "      <td>1.000000</td>\n",
       "      <td>0.986301</td>\n",
       "    </tr>\n",
       "    <tr>\n",
       "      <th>totals.hits</th>\n",
       "      <td>0.986301</td>\n",
       "      <td>1.000000</td>\n",
       "    </tr>\n",
       "  </tbody>\n",
       "</table>\n",
       "</div>"
      ],
      "text/plain": [
       "                  totals.pageviews  totals.hits\n",
       "totals.pageviews          1.000000     0.986301\n",
       "totals.hits               0.986301     1.000000"
      ]
     },
     "execution_count": 81,
     "metadata": {},
     "output_type": "execute_result"
    }
   ],
   "source": [
    "print((df[\"totals.pageviews\"] != df[\"totals.hits\"]).sum() / df.shape[0])\n",
    "df[['totals.pageviews', 'totals.hits']].corr()"
   ]
  },
  {
   "cell_type": "code",
   "execution_count": 82,
   "metadata": {},
   "outputs": [
    {
     "data": {
      "text/plain": [
       "<matplotlib.collections.PathCollection at 0x12d7416a0>"
      ]
     },
     "execution_count": 82,
     "metadata": {},
     "output_type": "execute_result"
    },
    {
     "data": {
      "image/png": "[encoded data removed]",
      "text/plain": [
       "<Figure size 432x288 with 1 Axes>"
      ]
     },
     "metadata": {
      "needs_background": "light"
     },
     "output_type": "display_data"
    }
   ],
   "source": [
    "sc = \"totals.visits\"\n",
    "plt.scatter(df[sc].fillna(0), df[y_name+\"_log\"])"
   ]
  },
  {
   "cell_type": "code",
   "execution_count": 89,
   "metadata": {},
   "outputs": [
    {
     "name": "stdout",
     "output_type": "stream",
     "text": [
      "Column: trafficSource.adContent category count: 18, Quantile count: [(0.0, 1.0), (0.25, 1.0), (0.5, 3.0), (0.75, 9.75), (1.0, 9849.0)]\n",
      "NAN                              9849\n",
      "Google Merchandise Collection      70\n",
      "Full auto ad IMAGE ONLY            16\n",
      "Name: trafficSource.adContent, dtype: int64\n",
      "========================================\n",
      "Column: trafficSource.adwordsClickInfo.adNetworkType category count: 2, Quantile count: [(0.0, 250.0), (0.25, 2625.0), (0.5, 5000.0), (0.75, 7375.0), (1.0, 9750.0)]\n",
      "NAN              9750\n",
      "Google Search     250\n",
      "Name: trafficSource.adwordsClickInfo.adNetworkType, dtype: int64\n",
      "========================================\n",
      "Column: trafficSource.adwordsClickInfo.gclId category count: 236, Quantile count: [(0.0, 1.0), (0.25, 1.0), (0.5, 1.0), (0.75, 1.0), (1.0, 9747.0)]\n",
      "NAN                                                                                           9747\n",
      "CjwKEAjw-LLKBRCdhqmwtYmX93kSJAAORDM6K_vERGGpVExrh9ITmLoG1Ac8SdTNfUUUAU_WteWWUxoCKHrw_wcB         3\n",
      "Cj0KEQjwxqS-BRDRgPLp0q2t0IUBEiQAgfMXRLIyC4WoAABLm_mr4SI2fyuPXhlC4kX2y46BYNULOMoaAjKw8P8HAQ       3\n",
      "Name: trafficSource.adwordsClickInfo.gclId, dtype: int64\n",
      "========================================\n",
      "Column: trafficSource.adwordsClickInfo.isVideoAd category count: 2, Quantile count: [(0.0, 250.0), (0.25, 2625.0), (0.5, 5000.0), (0.75, 7375.0), (1.0, 9750.0)]\n",
      "NAN      9750\n",
      "False     250\n",
      "Name: trafficSource.adwordsClickInfo.isVideoAd, dtype: int64\n",
      "========================================\n",
      "Column: trafficSource.adwordsClickInfo.page category count: 2, Quantile count: [(0.0, 250.0), (0.25, 2625.0), (0.5, 5000.0), (0.75, 7375.0), (1.0, 9750.0)]\n",
      "NAN    9750\n",
      "1       250\n",
      "Name: trafficSource.adwordsClickInfo.page, dtype: int64\n",
      "========================================\n",
      "Column: trafficSource.adwordsClickInfo.slot category count: 3, Quantile count: [(0.0, 1.0), (0.25, 125.0), (0.5, 249.0), (0.75, 4999.5), (1.0, 9750.0)]\n",
      "NAN    9750\n",
      "Top     249\n",
      "RHS       1\n",
      "Name: trafficSource.adwordsClickInfo.slot, dtype: int64\n",
      "========================================\n",
      "Column: trafficSource.campaign category count: 8, Quantile count: [(0.0, 1.0), (0.25, 1.75), (0.5, 48.0), (0.75, 170.25), (1.0, 9539.0)]\n",
      "NAN                                   9539\n",
      "Data Share Promo                       201\n",
      "AW - Dynamic Search Ads Whole Site     160\n",
      "Name: trafficSource.campaign, dtype: int64\n",
      "========================================\n",
      "Column: trafficSource.isTrueDirect category count: 2, Quantile count: [(0.0, 3179.0), (0.25, 4089.5), (0.5, 5000.0), (0.75, 5910.5), (1.0, 6821.0)]\n",
      "NAN     6821\n",
      "True    3179\n",
      "Name: trafficSource.isTrueDirect, dtype: int64\n",
      "========================================\n",
      "Column: trafficSource.keyword category count: 132, Quantile count: [(0.0, 1.0), (0.25, 1.0), (0.5, 1.0), (0.75, 1.0), (1.0, 9569.0)]\n",
      "NAN                                9569\n",
      "6qEhsCssdK0z36ri                    131\n",
      "(Remarketing/Content targeting)      37\n",
      "Name: trafficSource.keyword, dtype: int64\n",
      "========================================\n",
      "Column: trafficSource.medium category count: 6, Quantile count: [(0.0, 69.0), (0.25, 229.25), (0.5, 979.5), (0.75, 2692.0), (1.0, 4730.0)]\n",
      "organic     4730\n",
      "referral    3041\n",
      "NAN         1645\n",
      "Name: trafficSource.medium, dtype: int64\n",
      "========================================\n",
      "Column: trafficSource.referralPath category count: 194, Quantile count: [(0.0, 1.0), (0.25, 1.0), (0.5, 2.0), (0.75, 4.75), (1.0, 6959.0)]\n",
      "NAN           6959\n",
      "/              825\n",
      "/yt/about/     607\n",
      "Name: trafficSource.referralPath, dtype: int64\n",
      "========================================\n",
      "Column: trafficSource.source category count: 67, Quantile count: [(0.0, 1.0), (0.25, 1.0), (0.5, 3.0), (0.75, 12.5), (1.0, 4991.0)]\n",
      "google         4991\n",
      "youtube.com    1754\n",
      "(direct)       1645\n",
      "Name: trafficSource.source, dtype: int64\n",
      "========================================\n"
     ]
    }
   ],
   "source": [
    "# sc = 'trafficSource.adContent'\n",
    "sc = [c for c in df.columns.tolist() if c.startswith('trafficSource')]\n",
    "# print(sc)\n",
    "for c in sc:\n",
    "    vc = df[c].fillna('NAN').value_counts()\n",
    "    qc = vc.quantile([0, 0.25, 0.5, 0.75, 1])\n",
    "    qc = list(zip(qc.index.tolist(), qc.values.tolist()))\n",
    "    print(f'Column: {c} category count: {len(vc)}, Quantile count: {qc}')\n",
    "    print(vc.head(3))\n",
    "    print(\"====\" * 10)"
   ]
  },
  {
   "cell_type": "code",
   "execution_count": 42,
   "metadata": {},
   "outputs": [
    {
     "data": {
      "text/plain": [
       "Index(['channelGrouping', 'fullVisitorId', 'visitId', 'visitNumber',\n",
       "       'visitStartTime', 'device.browser', 'device.deviceCategory',\n",
       "       'device.isMobile', 'device.operatingSystem', 'geoNetwork.city',\n",
       "       'geoNetwork.continent', 'geoNetwork.country', 'geoNetwork.metro',\n",
       "       'geoNetwork.networkDomain', 'geoNetwork.region',\n",
       "       'geoNetwork.subContinent', 'totals.bounces', 'totals.hits',\n",
       "       'totals.newVisits', 'totals.pageviews', 'totals.visits',\n",
       "       'trafficSource.adContent',\n",
       "       'trafficSource.adwordsClickInfo.adNetworkType',\n",
       "       'trafficSource.adwordsClickInfo.gclId',\n",
       "       'trafficSource.adwordsClickInfo.isVideoAd',\n",
       "       'trafficSource.adwordsClickInfo.page',\n",
       "       'trafficSource.adwordsClickInfo.slot', 'trafficSource.campaign',\n",
       "       'trafficSource.isTrueDirect', 'trafficSource.keyword',\n",
       "       'trafficSource.medium', 'trafficSource.referralPath',\n",
       "       'trafficSource.source', 'totals.transactionRevenue',\n",
       "       'totals.transactionRevenue_log'],\n",
       "      dtype='object')"
      ]
     },
     "execution_count": 42,
     "metadata": {},
     "output_type": "execute_result"
    }
   ],
   "source": [
    "df.columns"
   ]
  }
 ],
 "metadata": {
  "kernelspec": {
   "display_name": "Python 3",
   "language": "python",
   "name": "python3"
  },
  "language_info": {
   "codemirror_mode": {
    "name": "ipython",
    "version": 3
   },
   "file_extension": ".py",
   "mimetype": "text/x-python",
   "name": "python",
   "nbconvert_exporter": "python",
   "pygments_lexer": "ipython3",
   "version": "3.6.6"
  }
 },
 "nbformat": 4,
 "nbformat_minor": 2
}
